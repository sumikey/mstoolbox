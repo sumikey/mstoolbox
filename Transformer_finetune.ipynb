{
  "nbformat": 4,
  "nbformat_minor": 0,
  "metadata": {
    "colab": {
      "name": "Transformer_finetune.ipynb",
      "provenance": [],
      "machine_shape": "hm",
      "mount_file_id": "1MjNu4SextkaGMOjvSd0ur-NuXbjhl1xV",
      "authorship_tag": "ABX9TyPFFbr/IgCWfo0DPhtsApnB",
      "include_colab_link": true
    },
    "kernelspec": {
      "name": "python3",
      "display_name": "Python 3"
    },
    "language_info": {
      "name": "python"
    },
    "accelerator": "GPU"
  },
  "cells": [
    {
      "cell_type": "markdown",
      "metadata": {
        "id": "view-in-github",
        "colab_type": "text"
      },
      "source": [
        "<a href=\"https://colab.research.google.com/github/sumikey/mstoolbox/blob/master/Transformer_finetune.ipynb\" target=\"_parent\"><img src=\"https://colab.research.google.com/assets/colab-badge.svg\" alt=\"Open In Colab\"/></a>"
      ]
    },
    {
      "cell_type": "markdown",
      "source": [
        "#GPT-2 Fine-tuning practise"
      ],
      "metadata": {
        "id": "CaEVBgCpi_Eq"
      }
    },
    {
      "cell_type": "markdown",
      "source": [
        "#1. Installing Dependencies & Mounting Google Drive"
      ],
      "metadata": {
        "id": "CQ2dYFRfjGPm"
      }
    },
    {
      "cell_type": "code",
      "source": [
        "# set tensor flow version with magic command\n",
        "%tensorflow_version 1.x"
      ],
      "metadata": {
        "colab": {
          "base_uri": "https://localhost:8080/"
        },
        "id": "741QDfPJyvpw",
        "outputId": "745d1798-0714-4c27-f2b9-323d95ed025f"
      },
      "execution_count": 1,
      "outputs": [
        {
          "output_type": "stream",
          "name": "stdout",
          "text": [
            "TensorFlow 1.x selected.\n"
          ]
        }
      ]
    },
    {
      "cell_type": "code",
      "source": [
        "# mount google drive and set accept\n",
        "from google.colab import drive\n",
        "drive.mount('/content/drive')"
      ],
      "metadata": {
        "colab": {
          "base_uri": "https://localhost:8080/"
        },
        "id": "JhtrXLJtu-ju",
        "outputId": "6d550c09-956e-48ef-c35b-de251ac546ef"
      },
      "execution_count": 2,
      "outputs": [
        {
          "output_type": "stream",
          "name": "stdout",
          "text": [
            "Drive already mounted at /content/drive; to attempt to forcibly remount, call drive.mount(\"/content/drive\", force_remount=True).\n"
          ]
        }
      ]
    },
    {
      "cell_type": "code",
      "source": [
        "# pip install transformers\n",
        "!pip3 install transformers"
      ],
      "metadata": {
        "colab": {
          "base_uri": "https://localhost:8080/"
        },
        "id": "tAWrG6fgjLf5",
        "outputId": "a90d9c4a-a656-41bb-c4c6-01c1c5232325"
      },
      "execution_count": 3,
      "outputs": [
        {
          "output_type": "stream",
          "name": "stdout",
          "text": [
            "Requirement already satisfied: transformers in /usr/local/lib/python3.7/dist-packages (4.14.1)\n",
            "Requirement already satisfied: requests in /usr/local/lib/python3.7/dist-packages (from transformers) (2.23.0)\n",
            "Requirement already satisfied: filelock in /usr/local/lib/python3.7/dist-packages (from transformers) (3.4.0)\n",
            "Requirement already satisfied: numpy>=1.17 in /usr/local/lib/python3.7/dist-packages (from transformers) (1.19.5)\n",
            "Requirement already satisfied: sacremoses in /usr/local/lib/python3.7/dist-packages (from transformers) (0.0.46)\n",
            "Requirement already satisfied: regex!=2019.12.17 in /usr/local/lib/python3.7/dist-packages (from transformers) (2019.12.20)\n",
            "Requirement already satisfied: tqdm>=4.27 in /usr/local/lib/python3.7/dist-packages (from transformers) (4.62.3)\n",
            "Requirement already satisfied: pyyaml>=5.1 in /usr/local/lib/python3.7/dist-packages (from transformers) (6.0)\n",
            "Requirement already satisfied: huggingface-hub<1.0,>=0.1.0 in /usr/local/lib/python3.7/dist-packages (from transformers) (0.2.1)\n",
            "Requirement already satisfied: tokenizers<0.11,>=0.10.1 in /usr/local/lib/python3.7/dist-packages (from transformers) (0.10.3)\n",
            "Requirement already satisfied: packaging>=20.0 in /usr/local/lib/python3.7/dist-packages (from transformers) (21.3)\n",
            "Requirement already satisfied: importlib-metadata in /usr/local/lib/python3.7/dist-packages (from transformers) (4.8.2)\n",
            "Requirement already satisfied: typing-extensions>=3.7.4.3 in /usr/local/lib/python3.7/dist-packages (from huggingface-hub<1.0,>=0.1.0->transformers) (3.10.0.2)\n",
            "Requirement already satisfied: pyparsing!=3.0.5,>=2.0.2 in /usr/local/lib/python3.7/dist-packages (from packaging>=20.0->transformers) (3.0.6)\n",
            "Requirement already satisfied: zipp>=0.5 in /usr/local/lib/python3.7/dist-packages (from importlib-metadata->transformers) (3.6.0)\n",
            "Requirement already satisfied: chardet<4,>=3.0.2 in /usr/local/lib/python3.7/dist-packages (from requests->transformers) (3.0.4)\n",
            "Requirement already satisfied: idna<3,>=2.5 in /usr/local/lib/python3.7/dist-packages (from requests->transformers) (2.10)\n",
            "Requirement already satisfied: certifi>=2017.4.17 in /usr/local/lib/python3.7/dist-packages (from requests->transformers) (2021.10.8)\n",
            "Requirement already satisfied: urllib3!=1.25.0,!=1.25.1,<1.26,>=1.21.1 in /usr/local/lib/python3.7/dist-packages (from requests->transformers) (1.24.3)\n",
            "Requirement already satisfied: joblib in /usr/local/lib/python3.7/dist-packages (from sacremoses->transformers) (1.1.0)\n",
            "Requirement already satisfied: click in /usr/local/lib/python3.7/dist-packages (from sacremoses->transformers) (7.1.2)\n",
            "Requirement already satisfied: six in /usr/local/lib/python3.7/dist-packages (from sacremoses->transformers) (1.15.0)\n"
          ]
        }
      ]
    },
    {
      "cell_type": "code",
      "source": [
        "# pip install gpt-2-simple\n",
        "!pip install gpt-2-simple"
      ],
      "metadata": {
        "colab": {
          "base_uri": "https://localhost:8080/"
        },
        "id": "aaQ7kuotlknr",
        "outputId": "6b96eff9-40d6-4d8f-d7eb-818475ee6733"
      },
      "execution_count": 4,
      "outputs": [
        {
          "output_type": "stream",
          "name": "stdout",
          "text": [
            "Requirement already satisfied: gpt-2-simple in /usr/local/lib/python3.7/dist-packages (0.8.1)\n",
            "Requirement already satisfied: numpy in /usr/local/lib/python3.7/dist-packages (from gpt-2-simple) (1.19.5)\n",
            "Requirement already satisfied: toposort in /usr/local/lib/python3.7/dist-packages (from gpt-2-simple) (1.7)\n",
            "Requirement already satisfied: regex in /usr/local/lib/python3.7/dist-packages (from gpt-2-simple) (2019.12.20)\n",
            "Collecting tensorflow>=2.5.1\n",
            "  Downloading tensorflow-2.7.0-cp37-cp37m-manylinux2010_x86_64.whl (489.6 MB)\n",
            "\u001b[K     |████████████████████████████████| 489.6 MB 21 kB/s \n",
            "\u001b[?25hRequirement already satisfied: requests in /usr/local/lib/python3.7/dist-packages (from gpt-2-simple) (2.23.0)\n",
            "Requirement already satisfied: tqdm in /usr/local/lib/python3.7/dist-packages (from gpt-2-simple) (4.62.3)\n",
            "Requirement already satisfied: astunparse>=1.6.0 in /usr/local/lib/python3.7/dist-packages (from tensorflow>=2.5.1->gpt-2-simple) (1.6.3)\n",
            "Requirement already satisfied: wrapt>=1.11.0 in /usr/local/lib/python3.7/dist-packages (from tensorflow>=2.5.1->gpt-2-simple) (1.13.3)\n",
            "Requirement already satisfied: typing-extensions>=3.6.6 in /usr/local/lib/python3.7/dist-packages (from tensorflow>=2.5.1->gpt-2-simple) (3.10.0.2)\n",
            "Requirement already satisfied: protobuf>=3.9.2 in /usr/local/lib/python3.7/dist-packages (from tensorflow>=2.5.1->gpt-2-simple) (3.17.3)\n",
            "Requirement already satisfied: google-pasta>=0.1.1 in /usr/local/lib/python3.7/dist-packages (from tensorflow>=2.5.1->gpt-2-simple) (0.2.0)\n",
            "Requirement already satisfied: tensorflow-io-gcs-filesystem>=0.21.0 in /usr/local/lib/python3.7/dist-packages (from tensorflow>=2.5.1->gpt-2-simple) (0.22.0)\n",
            "Requirement already satisfied: h5py>=2.9.0 in /usr/local/lib/python3.7/dist-packages (from tensorflow>=2.5.1->gpt-2-simple) (3.1.0)\n",
            "Requirement already satisfied: libclang>=9.0.1 in /usr/local/lib/python3.7/dist-packages (from tensorflow>=2.5.1->gpt-2-simple) (12.0.0)\n",
            "Requirement already satisfied: flatbuffers<3.0,>=1.12 in /usr/local/lib/python3.7/dist-packages (from tensorflow>=2.5.1->gpt-2-simple) (2.0)\n",
            "Requirement already satisfied: gast<0.5.0,>=0.2.1 in /usr/local/lib/python3.7/dist-packages (from tensorflow>=2.5.1->gpt-2-simple) (0.4.0)\n",
            "Requirement already satisfied: grpcio<2.0,>=1.24.3 in /usr/local/lib/python3.7/dist-packages (from tensorflow>=2.5.1->gpt-2-simple) (1.42.0)\n",
            "Requirement already satisfied: keras-preprocessing>=1.1.1 in /usr/local/lib/python3.7/dist-packages (from tensorflow>=2.5.1->gpt-2-simple) (1.1.2)\n",
            "Requirement already satisfied: six>=1.12.0 in /usr/local/lib/python3.7/dist-packages (from tensorflow>=2.5.1->gpt-2-simple) (1.15.0)\n",
            "Collecting tensorboard~=2.6\n",
            "  Downloading tensorboard-2.7.0-py3-none-any.whl (5.8 MB)\n",
            "\u001b[K     |████████████████████████████████| 5.8 MB 27.1 MB/s \n",
            "\u001b[?25hRequirement already satisfied: termcolor>=1.1.0 in /usr/local/lib/python3.7/dist-packages (from tensorflow>=2.5.1->gpt-2-simple) (1.1.0)\n",
            "Requirement already satisfied: opt-einsum>=2.3.2 in /usr/local/lib/python3.7/dist-packages (from tensorflow>=2.5.1->gpt-2-simple) (3.3.0)\n",
            "Collecting keras<2.8,>=2.7.0rc0\n",
            "  Downloading keras-2.7.0-py2.py3-none-any.whl (1.3 MB)\n",
            "\u001b[K     |████████████████████████████████| 1.3 MB 37.9 MB/s \n",
            "\u001b[?25hRequirement already satisfied: wheel<1.0,>=0.32.0 in /usr/local/lib/python3.7/dist-packages (from tensorflow>=2.5.1->gpt-2-simple) (0.37.0)\n",
            "Requirement already satisfied: absl-py>=0.4.0 in /usr/local/lib/python3.7/dist-packages (from tensorflow>=2.5.1->gpt-2-simple) (0.12.0)\n",
            "Collecting tensorflow-estimator<2.8,~=2.7.0rc0\n",
            "  Downloading tensorflow_estimator-2.7.0-py2.py3-none-any.whl (463 kB)\n",
            "\u001b[K     |████████████████████████████████| 463 kB 56.1 MB/s \n",
            "\u001b[?25hRequirement already satisfied: cached-property in /usr/local/lib/python3.7/dist-packages (from h5py>=2.9.0->tensorflow>=2.5.1->gpt-2-simple) (1.5.2)\n",
            "Requirement already satisfied: tensorboard-plugin-wit>=1.6.0 in /usr/local/lib/python3.7/dist-packages (from tensorboard~=2.6->tensorflow>=2.5.1->gpt-2-simple) (1.8.0)\n",
            "Requirement already satisfied: setuptools>=41.0.0 in /usr/local/lib/python3.7/dist-packages (from tensorboard~=2.6->tensorflow>=2.5.1->gpt-2-simple) (57.4.0)\n",
            "Requirement already satisfied: markdown>=2.6.8 in /usr/local/lib/python3.7/dist-packages (from tensorboard~=2.6->tensorflow>=2.5.1->gpt-2-simple) (3.3.6)\n",
            "Requirement already satisfied: google-auth<3,>=1.6.3 in /usr/local/lib/python3.7/dist-packages (from tensorboard~=2.6->tensorflow>=2.5.1->gpt-2-simple) (1.35.0)\n",
            "Requirement already satisfied: tensorboard-data-server<0.7.0,>=0.6.0 in /usr/local/lib/python3.7/dist-packages (from tensorboard~=2.6->tensorflow>=2.5.1->gpt-2-simple) (0.6.1)\n",
            "Requirement already satisfied: google-auth-oauthlib<0.5,>=0.4.1 in /usr/local/lib/python3.7/dist-packages (from tensorboard~=2.6->tensorflow>=2.5.1->gpt-2-simple) (0.4.6)\n",
            "Requirement already satisfied: werkzeug>=0.11.15 in /usr/local/lib/python3.7/dist-packages (from tensorboard~=2.6->tensorflow>=2.5.1->gpt-2-simple) (1.0.1)\n",
            "Requirement already satisfied: pyasn1-modules>=0.2.1 in /usr/local/lib/python3.7/dist-packages (from google-auth<3,>=1.6.3->tensorboard~=2.6->tensorflow>=2.5.1->gpt-2-simple) (0.2.8)\n",
            "Requirement already satisfied: cachetools<5.0,>=2.0.0 in /usr/local/lib/python3.7/dist-packages (from google-auth<3,>=1.6.3->tensorboard~=2.6->tensorflow>=2.5.1->gpt-2-simple) (4.2.4)\n",
            "Requirement already satisfied: rsa<5,>=3.1.4 in /usr/local/lib/python3.7/dist-packages (from google-auth<3,>=1.6.3->tensorboard~=2.6->tensorflow>=2.5.1->gpt-2-simple) (4.8)\n",
            "Requirement already satisfied: requests-oauthlib>=0.7.0 in /usr/local/lib/python3.7/dist-packages (from google-auth-oauthlib<0.5,>=0.4.1->tensorboard~=2.6->tensorflow>=2.5.1->gpt-2-simple) (1.3.0)\n",
            "Requirement already satisfied: importlib-metadata>=4.4 in /usr/local/lib/python3.7/dist-packages (from markdown>=2.6.8->tensorboard~=2.6->tensorflow>=2.5.1->gpt-2-simple) (4.8.2)\n",
            "Requirement already satisfied: zipp>=0.5 in /usr/local/lib/python3.7/dist-packages (from importlib-metadata>=4.4->markdown>=2.6.8->tensorboard~=2.6->tensorflow>=2.5.1->gpt-2-simple) (3.6.0)\n",
            "Requirement already satisfied: pyasn1<0.5.0,>=0.4.6 in /usr/local/lib/python3.7/dist-packages (from pyasn1-modules>=0.2.1->google-auth<3,>=1.6.3->tensorboard~=2.6->tensorflow>=2.5.1->gpt-2-simple) (0.4.8)\n",
            "Requirement already satisfied: certifi>=2017.4.17 in /usr/local/lib/python3.7/dist-packages (from requests->gpt-2-simple) (2021.10.8)\n",
            "Requirement already satisfied: chardet<4,>=3.0.2 in /usr/local/lib/python3.7/dist-packages (from requests->gpt-2-simple) (3.0.4)\n",
            "Requirement already satisfied: urllib3!=1.25.0,!=1.25.1,<1.26,>=1.21.1 in /usr/local/lib/python3.7/dist-packages (from requests->gpt-2-simple) (1.24.3)\n",
            "Requirement already satisfied: idna<3,>=2.5 in /usr/local/lib/python3.7/dist-packages (from requests->gpt-2-simple) (2.10)\n",
            "Requirement already satisfied: oauthlib>=3.0.0 in /usr/local/lib/python3.7/dist-packages (from requests-oauthlib>=0.7.0->google-auth-oauthlib<0.5,>=0.4.1->tensorboard~=2.6->tensorflow>=2.5.1->gpt-2-simple) (3.1.1)\n",
            "Installing collected packages: tensorflow-estimator, tensorboard, keras, tensorflow\n",
            "  Attempting uninstall: tensorflow-estimator\n",
            "    Found existing installation: tensorflow-estimator 1.15.1\n",
            "    Uninstalling tensorflow-estimator-1.15.1:\n",
            "      Successfully uninstalled tensorflow-estimator-1.15.1\n",
            "  Attempting uninstall: tensorboard\n",
            "    Found existing installation: tensorboard 1.15.0\n",
            "    Uninstalling tensorboard-1.15.0:\n",
            "      Successfully uninstalled tensorboard-1.15.0\n",
            "  Attempting uninstall: keras\n",
            "    Found existing installation: Keras 2.3.1\n",
            "    Uninstalling Keras-2.3.1:\n",
            "      Successfully uninstalled Keras-2.3.1\n",
            "  Attempting uninstall: tensorflow\n",
            "    Found existing installation: tensorflow 1.15.2\n",
            "    Uninstalling tensorflow-1.15.2:\n",
            "      Successfully uninstalled tensorflow-1.15.2\n",
            "Successfully installed keras-2.7.0 tensorboard-2.7.0 tensorflow-2.7.0 tensorflow-estimator-2.7.0\n"
          ]
        }
      ]
    },
    {
      "cell_type": "markdown",
      "source": [
        "Old way of setting up text data, now defunct\n"
      ],
      "metadata": {
        "id": "FHCgf7F3kCcK"
      }
    },
    {
      "cell_type": "code",
      "source": [
        "# # read file from google drive\n",
        "# file = open(\"/content/drive/MyDrive/bts_project/merged_clean.txt\")\n",
        "# # read the text file and make string\n",
        "# tune_text = file.read()"
      ],
      "metadata": {
        "id": "X-NeugqcjLwn"
      },
      "execution_count": 5,
      "outputs": []
    },
    {
      "cell_type": "code",
      "source": [
        "# print(tune_text[:200])"
      ],
      "metadata": {
        "id": "yiCjjvPdjL1x"
      },
      "execution_count": 6,
      "outputs": []
    },
    {
      "cell_type": "markdown",
      "source": [
        "#2. Setup GPT-2 Simple & setup fine_tuning text path"
      ],
      "metadata": {
        "id": "rcSk2sy0ksOd"
      }
    },
    {
      "cell_type": "code",
      "source": [
        "# import and alias\n",
        "import gpt_2_simple as gpt2"
      ],
      "metadata": {
        "id": "RlPrNLHDk9Bb"
      },
      "execution_count": 7,
      "outputs": []
    },
    {
      "cell_type": "code",
      "source": [
        "# download relevant model, begin with small version\n",
        "gpt2.download_gpt2(model_name=\"355M\")"
      ],
      "metadata": {
        "colab": {
          "base_uri": "https://localhost:8080/"
        },
        "id": "of0FuslKl4oV",
        "outputId": "1f897fcf-3d2e-4ffc-80ae-a3ce11398884"
      },
      "execution_count": 8,
      "outputs": [
        {
          "output_type": "stream",
          "name": "stderr",
          "text": [
            "Fetching checkpoint: 1.05Mit [00:00, 603Mit/s]                                                      \n",
            "Fetching encoder.json: 1.05Mit [00:00, 3.36Mit/s]\n",
            "Fetching hparams.json: 1.05Mit [00:00, 423Mit/s]                                                    \n",
            "Fetching model.ckpt.data-00000-of-00001: 1.42Git [01:06, 21.3Mit/s]                                 \n",
            "Fetching model.ckpt.index: 1.05Mit [00:00, 580Mit/s]                                                \n",
            "Fetching model.ckpt.meta: 1.05Mit [00:00, 3.41Mit/s]\n",
            "Fetching vocab.bpe: 1.05Mit [00:00, 4.03Mit/s]\n"
          ]
        }
      ]
    },
    {
      "cell_type": "code",
      "source": [
        "# set file / path.\n",
        "# change depending on where you store your file\n",
        "file_name = \"/content/drive/MyDrive/bts_project/merged_clean.txt\""
      ],
      "metadata": {
        "id": "FYgDXjGlmjG9"
      },
      "execution_count": 9,
      "outputs": []
    },
    {
      "cell_type": "markdown",
      "source": [
        "#3. Finetune"
      ],
      "metadata": {
        "id": "uuGlC19DnJi6"
      }
    },
    {
      "cell_type": "code",
      "source": [
        "#start session\n",
        "sess = gpt2.start_tf_sess()\n",
        "\n",
        "#finetune sess with parameters\n",
        "gpt2.finetune(sess,\n",
        "              dataset= file_name,\n",
        "              model_name='355M',\n",
        "              steps=200,  #number of epochs want to run\n",
        "              restore_from='fresh',\n",
        "              run_name='run1', #what to name the saved model\n",
        "              print_every=10, #show loss and avg loss after every 10 epochs\n",
        "              sample_every=50, #print a sample on the screen after every 20 epochs\n",
        "              save_every=20,  #save the model after every 20 epochs\n",
        "              #use_memory_saving_gradients = True, # recommended for larger models\n",
        "              only_train_transformer_layers = True, # recommended for larger models\n",
        "              accumulate_gradients = 1, # recommended for larger models\n",
        "              reuse = True)  "
      ],
      "metadata": {
        "colab": {
          "base_uri": "https://localhost:8080/"
        },
        "id": "InkR4-ZtnC7G",
        "outputId": "3b72a8ea-761c-412c-f077-f2eb274b0a25"
      },
      "execution_count": 12,
      "outputs": [
        {
          "output_type": "stream",
          "name": "stdout",
          "text": [
            "For larger models, the recommended finetune() parameters are:\n",
            "\tuse_memory_saving_gradients = True\n",
            "\tonly_train_transformer_layers = True\n",
            "\taccumulate_gradients = 1\n",
            "\n",
            "Loading checkpoint models/355M/model.ckpt\n",
            "INFO:tensorflow:Restoring parameters from models/355M/model.ckpt\n",
            "Loading dataset...\n"
          ]
        },
        {
          "output_type": "stream",
          "name": "stderr",
          "text": [
            "100%|██████████| 1/1 [00:18<00:00, 18.35s/it]\n"
          ]
        },
        {
          "output_type": "stream",
          "name": "stdout",
          "text": [
            "dataset has 3246411 tokens\n",
            "Training...\n",
            "[10 | 14.04] loss=2.48 avg=2.48\n",
            "[20 | 20.74] loss=2.74 avg=2.61\n",
            "Saving checkpoint/run1/model-20\n",
            "[30 | 35.70] loss=2.62 avg=2.61\n",
            "[40 | 42.41] loss=2.94 avg=2.70\n",
            "Saving checkpoint/run1/model-40\n",
            "WARNING:tensorflow:From /usr/local/lib/python3.7/dist-packages/tensorflow/python/training/saver.py:1058: remove_checkpoint (from tensorflow.python.training.checkpoint_management) is deprecated and will be removed in a future version.\n",
            "Instructions for updating:\n",
            "Use standard file APIs to delete files with this prefix.\n",
            "[50 | 56.21] loss=2.85 avg=2.73\n",
            "======== SAMPLE 1 ========\n",
            ",, or,\n",
            "The number of days, hours, or minutes of the week, or hours of\n",
            "the day, or minutes of noon, or hours of midnight, or\n",
            "\n",
            "or minutes of five minutes, or minutes of twenty minutes, or a period\n",
            "within a period of twenty years, a period of one hour; The amount\n",
            "of time (or portions of time as the case shall be) which\n",
            "are to be counted within a period of one hour.\n",
            "                                                                                                                                                                                                                                                                                                                                                                                                                                                                                                                                                                                (                                                                                                                                                                                                                                                                                                                                                                                \n",
            "\n",
            "[60 | 87.12] loss=2.31 avg=2.66\n",
            "Saving checkpoint/run1/model-60\n",
            "[70 | 101.70] loss=2.74 avg=2.67\n",
            "[80 | 108.40] loss=2.87 avg=2.70\n",
            "Saving checkpoint/run1/model-80\n",
            "[90 | 122.28] loss=3.24 avg=2.76\n",
            "[100 | 128.98] loss=2.65 avg=2.75\n",
            "Saving checkpoint/run1/model-100\n",
            "======== SAMPLE 1 ========\n",
            " and his master, when he was gone, the two went to the court-house and said to the prince, 'Give us a wife; and I will do it with the most noble and the most pure.' Now, as the prince, in his turn, was in great distress, he wanted to know what sort of kind of kind of kind of sort of wife he should get. The young men of the palace said, 'Get us a maid, and let her look after us. In one place, in one of the rooms, she will give us a little bit of money, and another a little bit of money.' This was very much like the money that the Prince of Orange had spoken of, but as the little maids were all white and looked in good countenance, the prince looked very ill on his return from the palace, and as this was very unkind to him, he could not imagine how he would get his kind-hearted little housekeeper to come to him!\n",
            "\n",
            "\n",
            "THE BEGINNINGS OF THE DEVIL'S STORY\n",
            "\n",
            "The devil was born to be an evil spirit.\n",
            "\n",
            "The Devil's first name was Satan. The name of his species was Astaroth. His species was Devil.\n",
            "\n",
            "His description of his soul was dark, but, nevertheless, that is not his description of himself.\n",
            "\n",
            "\n",
            "THE DYING DEVIL\n",
            "\n",
            "It was the middle of the night when the door of the prince's house opened and a very old man came in, and the prince was greatly pleased. The old man had heard all that he could, and said, 'If the Prince of Orange is unhappy, do not put him out; it is his fault.'\n",
            "\n",
            "But the prince was in the middle of the night, and he was in great distress. His heart was on the prince's side, and he feared the old man's word, and he wanted to do something that would put him out of the way. It was a great struggle, and the prince went to his uncle, who lived right near him, and begged the help of the old man. The old man's eyes were fixed on the prince, and it took all his wit to resist him with all his strength. Then, with great difficulty, and great pain, the old man managed to make some preparations for the prince's relief.\n",
            "\n",
            "The first thing the prince had to do was to take the clothes out of the dressers into the little room in the closet. Then he washed and dressed himself, too, and, of course, the prince's uncle, the old witch with all his might, could never stop him!\n",
            "\n",
            "But it was not all over with all this. There was still one step farther: when the Prince of Orange took his uncle's body, and he passed out of this world, the old man and aunt both threw themselves at his feet. The prince's father, the elder son, was greatly disappointed when the old man and aunt and the three other good-natured women that the daughter had brought up with her departed this world, and the two youngest boys, who were not so much as five years old yet, left the house. The prince wished his father to live on with his, and his mother with her, and to stay with her, and his two sisters; and he never really knew how it was that he had been left alone. He never went to the church, which had been so good to him, and so much loved him, and how he had lived with the three sisters, in the church and the nursery, and how he had learned that they were all his sisters, who were all very wise and wise and good and very pretty and well dressed and had all kinds of jewels and furs, and they all walked about with all sorts of good qualities and had all kinds of little ones and, of course, with their hands all around them.\n",
            "\n",
            "But there was a problem. They had lived in the same house for many years, and it had been long before the problem had arisen. It happened that one day there came the old man and his two sisters and his sister's husband and his sister's wife to the house in order to beg.\n",
            "\n",
            "The old man gave his two sisters and his sister's wife a little bag full of money, all of it, and told them to go and take it away. The two girls left, and the two boys followed them in their bags.\n",
            "\n",
            "The boys came and went with the boys. The first day they went from the school to the garden, the second day they went to the school to the kitchen, the third day they sat in the kitchen to make bread, the fourth day they came down and went to the garden and to the garden again to fish, and they all had good things to do.\n",
            "\n",
            "But the fourth day, after the two boys had gone, the first day's work started, and the only thing was to sit in the kitchen to make bread. And the bread of\n",
            "\n",
            "[110 | 165.29] loss=2.71 avg=2.74\n",
            "[120 | 171.99] loss=2.49 avg=2.72\n",
            "Saving checkpoint/run1/model-120\n",
            "[130 | 186.18] loss=2.94 avg=2.74\n",
            "[140 | 192.88] loss=2.90 avg=2.75\n",
            "Saving checkpoint/run1/model-140\n",
            "[150 | 206.79] loss=2.80 avg=2.75\n",
            "======== SAMPLE 1 ========\n",
            " her mouth was very moistly\n",
            "sucked. It was quite clear that not only was there water, but there\n",
            "was also the water-coloured liquid that lay in her mouth. \"I could\n",
            "have used my tongue as it was,\" continued she.\n",
            "\"You're no match for me,\" retorted the boy.\n",
            "The girl laughed again and said: \"Oh! yes--that's quite\n",
            "true--yes, it is. It's all in a box of tricks.\"\n",
            "\n",
            "\"It's no fun playing pranks with a beautiful girl,\" laughed the stranger. \"\n",
            "How could we go on?\"\n",
            "\n",
            "\"But how could I play when I'm not able to breathe?\"\n",
            "\n",
            "\"I don't know,\" replied the old woman. \"But as you're so\n",
            "good, but how can you say I'm not good enough? What kind of\n",
            "sadder are you? I'm quite happy myself.\"\n",
            "\n",
            "\"Well, I've been with friends for many years,\" continued she, her\n",
            "pupils still moist with honey; \"but I'll soon get my feet over that. I\n",
            "can't be good enough.\"\n",
            "\n",
            "The other boy sat up and opened his mouth to say that when he saw that the\n",
            "other girl was crying so hard she could scarcely breathe he thought that\n",
            "it might be a good idea to get some fresh air. The other boy did\n",
            "that, and said to her: \"How sweet that you'll cry no more.\" (And he\n",
            "kept crying.)\n",
            "\n",
            "\"I'm quite happy,\" she repeated. \"I'm only a little girl whose\n",
            "pupil's wet.\"\n",
            "\n",
            "\"A child!\" laughed the young man; \"but you were quite a good\n",
            "mother. Come here.\"\n",
            "\n",
            "\"If you'd have got your feet up,\" was the reply, \"it would have\n",
            "been a good end.\"\n",
            "\n",
            "\"Ah, I forgot,\" cried the old woman, picking up the child\n",
            "in her hand. The girl ran her legs over the ground and fell\n",
            "to the bottom, and at length was lying still.\n",
            "\n",
            "\"Come here.\"\n",
            "\n",
            "\"Oh, don't go.\"\n",
            "\n",
            "\"I don't want anything else.\"\n",
            "\n",
            "\"Don't tell me. You'll be so happy.\"\n",
            "\n",
            "\"Oh, it doesn't matter to me.\"\n",
            "\n",
            "\"Oh.\"\n",
            "\n",
            "\"Just look at me.\"\n",
            "\n",
            "\"Don't say anything. I don't care. I'm not really happy.\"\n",
            "\n",
            "\"It didn't take you long to come here. Go on.\"\n",
            "\n",
            "\"Don't say anything to me.\"\n",
            "\n",
            "\"Come on; it's my turn.\"\n",
            "\n",
            "\"Oh, there's no use going nowhere.\"\n",
            "\n",
            "\"Oh.\"\n",
            "\n",
            "\"Come here.\"\n",
            "\n",
            "\"Ah, it didn't take long to come here.\n",
            "\n",
            "\"Don't say anything, it's not my turn.\"\n",
            "\n",
            "\"Ah, it didn't take long to come here.\n",
            "\n",
            "\"Come on.\"\n",
            "\n",
            "\"Oh, there's no use going anywhere. It's not true to say you could\n",
            "come back to me.\"\n",
            "\n",
            "\"Oh.\"\n",
            "\n",
            "\"Oh, come here.\"\n",
            "\n",
            "\"Ah, there's no use going anywhere.\"\n",
            "\n",
            "\"Oh.\"\n",
            "\n",
            "\"Come here.\"\n",
            "\n",
            "\"Ah, it didn't take long to come here.\n",
            "\"I don't want anything else.\"\n",
            "\n",
            "\"I want nothing.\"\n",
            "\n",
            "\"Oh.\"\n",
            "\n",
            "\"That's it.\"\n",
            "\n",
            "\"Don't say anything,\" she told him; \"I don't care.\"\n",
            "\n",
            "\"Ah, you've got quite a pretty mouth. Come here.\"\n",
            "\n",
            "\"Oh, it wouldn't be my turn.\"\n",
            "\n",
            "\"Come here.\"\n",
            "\n",
            "\"That's it.\"\n",
            "\n",
            "\"Oh, you've got quite a pretty mouth. Come here.\"\n",
            "\n",
            "\"Ah, that's it.\"\n",
            "\n",
            "\"Oh, you've got quite a pretty mouth. I don't want anything else.\"\n",
            "\n",
            "\"Well, I was born with it all on my teeth, isn't it enough to\n",
            "say that you've got another pretty mouth?\" (Again the kid\n",
            "was quite a handsome person,) \"but I didn't do it.\"\n",
            "\n",
            "\"Oh, you've got quite a pretty mouth. Come here.\"\n",
            "\n",
            "\"Ah, you've got quite a pretty mouth. Come here.\"\n",
            "\n",
            "\"Ah, that's it.\"\n",
            "\n",
            "\"Ah, that's it.\"\n",
            "\n",
            "\"Oh, you've got quite a pretty mouth; that's it.\"\n",
            "\n",
            "\"Ah, there's a very good mouth you're holding; come here.\"\n",
            "\n",
            "\"Ah, there's something very pretty you've got. Come here.\"\n",
            "\n",
            "\"Ah, there's something very beautiful you've got.\" (He was even\n",
            "beautier than when they were children--but they didn't like to be\n",
            "called handsome.)\n",
            "\n",
            "\"\n",
            "\n",
            "[160 | 234.97] loss=2.66 avg=2.75\n",
            "Saving checkpoint/run1/model-160\n",
            "[170 | 248.82] loss=2.93 avg=2.76\n",
            "[180 | 255.52] loss=2.82 avg=2.76\n",
            "Saving checkpoint/run1/model-180\n",
            "[190 | 269.93] loss=2.67 avg=2.76\n",
            "[200 | 276.63] loss=2.51 avg=2.74\n",
            "Saving checkpoint/run1/model-200\n"
          ]
        }
      ]
    },
    {
      "cell_type": "markdown",
      "source": [
        "#4. Generate Text"
      ],
      "metadata": {
        "id": "CSgu2BDHpmDM"
      }
    },
    {
      "cell_type": "code",
      "source": [
        "# test generate text predictions\n",
        "gpt2.generate(sess, run_name='run1')"
      ],
      "metadata": {
        "id": "Jaza9owkppUd"
      },
      "execution_count": null,
      "outputs": []
    },
    {
      "cell_type": "code",
      "source": [
        "# time to generate a proper prediction with a prompt\n",
        "gen_text = gpt2.generate(sess,\n",
        "              length=1_000,  #number of tokens to generate\n",
        "              temperature=0.8, #takes value beteen 0 and 1. Determines randomness\n",
        "              prefix=\"The lonely King invited the pirate to his castle for dinner.\",\n",
        "              nsamples=1, #number of samples want to produce\n",
        "              batch_size=1,\n",
        "              top_k=500  #number of tokens to take into account when generating\n",
        "              )"
      ],
      "metadata": {
        "colab": {
          "base_uri": "https://localhost:8080/"
        },
        "id": "juD6MCzTqCcR",
        "outputId": "1a681fd8-b1fb-41ad-c9d6-9b610e950c31"
      },
      "execution_count": 20,
      "outputs": [
        {
          "output_type": "stream",
          "name": "stdout",
          "text": [
            "The lonely King invited the pirate to his castle for dinner.\n",
            "\n",
            "\"A friend of mine,\" said the pirate, \"is among you; he is a splendid fellow. He has no thoughts of you at all. I wish him luck in all his adventures.\"\n",
            "\n",
            "The King stole off and bought ten elephants.\n",
            "\n",
            "\"Look here,\" said the pirate, \"what will you do to him?\"\n",
            "\n",
            "\"I'll leave him alone to go and help him,\" said the King.\n",
            "\n",
            "\"If he really will try to come, what will you do?\" asked the pirate.\n",
            "\n",
            "\"If he truly is a hero, I'll do nothing!\" said the King. \"I'm so poor, I can hardly pay! You see, my dear friends, I'm a poor man! My mother only had to buy me a little child! I've got nothing to live on! I've got no money!\"\n",
            "\n",
            "\"No worries of it,\" replied the pirate. \"Look here! there's some gold left in your pocket. You'll take that.\"\n",
            "\n",
            "Again the King took the gold from the pirate's pocket.\n",
            "\n",
            "The pirate said to the King, \"We have no use for it. The King is a rich man, and he's not going to pay a single stitch for it. If ever he wants to buy a tail for a ship, cut it into two halves, and place them in your pocket. Then use the tail as a dagger. Then swing it in your hand and let the King swing across the room to give himself a good beating. Here's the gold, which is yours in the King's pocket. See the gold pieces in the midst of the room to the right, and here's the King's sword. Every one else in the room is useless to the King. We'll move on to the next room. Come and join us.\"\n",
            "\n",
            "The King stepped forward and took the gold and the silver, and began to laugh.\n",
            "\n",
            "Then the pirate said, \"If you will just let your heart rest a little, and stop this nonsense for a bit. The King has a son to pick up right up in the next room.\"\n",
            "\n",
            "The King laughed again, and as he could not resist, he fell down on the floor and lay down on his back, as he was wont to do.\n",
            "\n",
            "As the pirate said nothing more, he took the King's sword and swung it round his neck. The King had a great beating in his head, and was in grievous pain.\n",
            "\n",
            "\"Stop!\" cried the pirate, who had the King's thigh in his hand. \"You're no use. I'll take care of you. Now I'll pick up the tail of the ship. You must do the same.\"\n",
            "\n",
            "\"Then, I'll do your bidding,\" said the King, and began to swing the sword round and round.\n",
            "\n",
            "The pirate said, \"Here's the gold, which is mine. You must take it. You don't want to do it, however; you're no use to me, I'll do it to you.\"\n",
            "\n",
            "The King was far from being able to get up, but soon he had picked up the tail, and swinging it round his neck, swung the sword in his hand.\n",
            "\n",
            "The pirate said to the King, \"Now you must stop, and look for the little treasures left on the floor. The King has something he wants to give you, and you must come and join in.\"\n",
            "\n",
            "The King left the pirate on the floor, and stood up, and looked for his treasure.\n",
            "\n",
            "\"There!\" he said, \"there! there! there! There!\"\n",
            "\n",
            "\"Hold on a moment the pirate,\" said the pirate, \"and we'll come back with the treasures. You shall be on board with us.\"\n",
            "\n",
            "He looked down, and saw the King laying on his back as he swung his sword around his neck, the gold pieces in the room to the right, and the King's sword on the sword-hand.\n",
            "\n",
            "\"Stop!\" cried the pirate, \"when one hatches to rise, all you do is get up, and look for the little treasures left on the floor.\"\n",
            "\n",
            "\"There! there! there! there!\" cried the King, in agony; then, lifting his head, he looked up and saw the pirates on the floor, the King watching him.\n",
            "\n",
            "\"Stay, then,\" said the pirate, \"I'm not leaving you, but you must seem to me as though you're bound for your own life. You'll be caught by the ship from the very day the King dies.\"\n",
            "\n",
            "The King took the pirates' sword and swung it round his neck, and swung it on his head.\n",
            "\n",
            "The pirate said to the King, \"Now you must stop, and pick up the tail of the ship. You must do the same\".\n",
            "\n",
            "\"\n"
          ]
        }
      ]
    },
    {
      "cell_type": "code",
      "source": [
        ""
      ],
      "metadata": {
        "id": "UNbGHfOKvnW9"
      },
      "execution_count": null,
      "outputs": []
    }
  ]
}